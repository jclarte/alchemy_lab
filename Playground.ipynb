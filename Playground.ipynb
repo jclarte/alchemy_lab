{
 "cells": [
  {
   "cell_type": "code",
   "execution_count": 1,
   "id": "cccc4564-e636-4d6a-9bf2-d3cd1ab95ac1",
   "metadata": {},
   "outputs": [],
   "source": [
    "# Create the db engine\n",
    "from sqlalchemy import create_engine\n",
    "from alchemy_lab.db_settings import pg_url\n",
    "db_engine = create_engine(pg_url)"
   ]
  },
  {
   "cell_type": "code",
   "execution_count": 2,
   "id": "1bedf036-3a0d-4edc-84bf-f4737e4c4788",
   "metadata": {},
   "outputs": [
    {
     "name": "stdout",
     "output_type": "stream",
     "text": [
      "[('hello world',)]\n"
     ]
    }
   ],
   "source": [
    "# a simple hello world\n",
    "from sqlalchemy import text\n",
    "\n",
    "with db_engine.connect() as conn:\n",
    "    result = conn.execute(text(\"select 'hello world'\"))\n",
    "    print(result.all())"
   ]
  },
  {
   "cell_type": "code",
   "execution_count": null,
   "id": "f487b442-f5ec-4657-97fb-131a912d517f",
   "metadata": {},
   "outputs": [],
   "source": []
  }
 ],
 "metadata": {
  "kernelspec": {
   "display_name": "Python 3 (ipykernel)",
   "language": "python",
   "name": "python3"
  },
  "language_info": {
   "codemirror_mode": {
    "name": "ipython",
    "version": 3
   },
   "file_extension": ".py",
   "mimetype": "text/x-python",
   "name": "python",
   "nbconvert_exporter": "python",
   "pygments_lexer": "ipython3",
   "version": "3.11.4"
  }
 },
 "nbformat": 4,
 "nbformat_minor": 5
}
